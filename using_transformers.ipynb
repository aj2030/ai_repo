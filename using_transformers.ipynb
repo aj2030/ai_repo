{
  "nbformat": 4,
  "nbformat_minor": 0,
  "metadata": {
    "colab": {
      "provenance": [],
      "toc_visible": true,
      "authorship_tag": "ABX9TyObTbKIjamqdE7uP6whDCcQ",
      "include_colab_link": true
    },
    "kernelspec": {
      "name": "python3",
      "display_name": "Python 3"
    },
    "language_info": {
      "name": "python"
    }
  },
  "cells": [
    {
      "cell_type": "markdown",
      "metadata": {
        "id": "view-in-github",
        "colab_type": "text"
      },
      "source": [
        "<a href=\"https://colab.research.google.com/github/aj2030/ai_repo/blob/main/using_transformers.ipynb\" target=\"_parent\"><img src=\"https://colab.research.google.com/assets/colab-badge.svg\" alt=\"Open In Colab\"/></a>"
      ]
    },
    {
      "cell_type": "markdown",
      "source": [
        "Download and install required packages for using transformers"
      ],
      "metadata": {
        "id": "M0kHf2igSK8a"
      }
    },
    {
      "cell_type": "code",
      "source": [
        "!pip install transformers"
      ],
      "metadata": {
        "id": "KYcK5I_8SRLS"
      },
      "execution_count": null,
      "outputs": []
    },
    {
      "cell_type": "code",
      "source": [
        "# Logging into hugging face\n",
        "from huggingface_hub import login\n",
        "from google.colab import userdata\n",
        "\n",
        "# Retrieve the Hugging Face token from user secrets\n",
        "hf_token = userdata.get('HF_TOKEN')\n",
        "\n",
        "# Log in to Hugging Face\n",
        "login(token=hf_token)"
      ],
      "metadata": {
        "id": "b7iZYWFPZEpC"
      },
      "execution_count": 11,
      "outputs": []
    },
    {
      "cell_type": "markdown",
      "source": [
        "Defins some **Models** that we will use to exercise with transformers, encoding and decoding."
      ],
      "metadata": {
        "id": "2uYkdFyxStUd"
      }
    },
    {
      "cell_type": "code",
      "source": [
        "IBM_GRANITE_1 = \"ibm-granite/granite-4.0-tiny-preview\"\n",
        "IBM_GRANITE_2 = \"ibm-granite/granite-3.3-2b-instruct\"\n",
        "OPENAI_WHISPER = \"openai/whisper-small\"\n",
        "\n",
        "MODELS = [IBM_GRANITE_1,IBM_GRANITE_2,OPENAI_WHISPER]"
      ],
      "metadata": {
        "id": "2Dd2BluFS31V"
      },
      "execution_count": 12,
      "outputs": []
    },
    {
      "cell_type": "code",
      "source": [
        "# Getting transformers\n",
        "from transformers import AutoTokenizer, AutoModelForSeq2SeqLM, pipeline\n",
        "user_data = \"Hello! how are you?\"\n",
        "\n",
        "for model in MODELS:\n",
        "  transformer = AutoTokenizer.from_pretrained(model)\n",
        "  print(f\"Model name = {model}\")\n",
        "\n",
        "  # encode user data and print it.\n",
        "  encoded_data = transformer.encode(user_data)\n",
        "  [print(f\"{token}={transformer.decode(token)}\") for token in encoded_data]\n",
        "  print()\n"
      ],
      "metadata": {
        "colab": {
          "base_uri": "https://localhost:8080/"
        },
        "id": "EY8YKy_5UENH",
        "outputId": "86a31bae-c71a-47ef-c797-8b53f4dd4879"
      },
      "execution_count": 13,
      "outputs": [
        {
          "output_type": "stream",
          "name": "stdout",
          "text": [
            "Model name = ibm-granite/granite-4.0-tiny-preview\n",
            "8279=Hello\n",
            "19=!\n",
            "2624= how\n",
            "884= are\n",
            "844= you\n",
            "49=?\n",
            "\n",
            "Model name = ibm-granite/granite-3.3-2b-instruct\n",
            "8279=Hello\n",
            "19=!\n",
            "2624= how\n",
            "884= are\n",
            "844= you\n",
            "49=?\n",
            "\n",
            "Model name = openai/whisper-small\n",
            "50258=<|startoftranscript|>\n",
            "50363=<|notimestamps|>\n",
            "15947=Hello\n",
            "0=!\n",
            "577= how\n",
            "366= are\n",
            "291= you\n",
            "30=?\n",
            "50257=<|endoftext|>\n",
            "\n"
          ]
        }
      ]
    },
    {
      "cell_type": "code",
      "source": [],
      "metadata": {
        "id": "keh1gb1KVoy5"
      },
      "execution_count": null,
      "outputs": []
    }
  ]
}